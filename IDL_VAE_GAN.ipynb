{
  "nbformat": 4,
  "nbformat_minor": 0,
  "metadata": {
    "colab": {
      "name": "IDL_VAE_GAN.ipynb",
      "provenance": []
    },
    "kernelspec": {
      "name": "python3",
      "display_name": "Python 3"
    },
    "language_info": {
      "name": "python"
    }
  },
  "cells": [
    {
      "cell_type": "markdown",
      "metadata": {
        "id": "YjFWQh_hyghW"
      },
      "source": [
        "# Introduction to Deep Learning\n",
        "## Assignment 3, Part 2\n",
        "\n",
        "### Generative Models\n",
        "\n",
        "<img src=\"https://lilianweng.github.io/lil-log/assets/images/three-generative-models.png\" width=\"500\"> \n",
        "\n",
        "\n",
        "In this notebook we are going to cover two generative models for generating novel images:\n",
        "\n",
        "1. Variational Autoencoders (VAEs)\n",
        "2. Generative adversarial networks (GANs)\n",
        "\n",
        "Your main goal will be to retrain these models on a dataset of your choice and do some experiments on the learned latent space.\n"
      ]
    },
    {
      "cell_type": "code",
      "metadata": {
        "id": "aDjcuZ_rygha",
        "colab": {
          "base_uri": "https://localhost:8080/"
        },
        "outputId": "ec661983-0195-406c-f9ed-d9bbe56fa789"
      },
      "source": [
        "from tqdm import tqdm\n",
        "import numpy as np\n",
        "import tensorflow as tf\n",
        "import matplotlib.pyplot as plt\n",
        "\n",
        "from google.colab import drive\n",
        "drive.mount('/content/drive', force_remount=True)\n"
      ],
      "execution_count": null,
      "outputs": [
        {
          "output_type": "stream",
          "name": "stdout",
          "text": [
            "Mounted at /content/drive\n"
          ]
        }
      ]
    },
    {
      "cell_type": "markdown",
      "source": [
        "#Creating a Downsampled .npy Image Dataset of Animal Faces\n",
        "\n",
        "For Task 2 of Assignment 3, we have decided to use this dataset of animal faces: https://www.kaggle.com/andrewmvd/animal-faces. In the following cell, we downsample the images to a 64 x 64 x 3 format and save them in an .npy file. Best not to rerun it. Instead, load the animals_downsampled.npy file in your Drive and skip this cell. It takes less time."
      ],
      "metadata": {
        "id": "5WzQU28JRnXD"
      }
    },
    {
      "cell_type": "code",
      "source": [
        "\"\"\"\n",
        "from PIL import Image\n",
        "import os, sys\n",
        "import numpy as np\n",
        "from google.colab import drive\n",
        "from skimage.measure import block_reduce\n",
        "\n",
        "drive.mount('/content/drive', force_remount=True)\n",
        "'''\n",
        "Converts all images in a directory to '.npy' format.\n",
        "Use np.save and np.load to save and load the images.\n",
        "Use it for training your neural networks in ML/DL projects. \n",
        "'''\n",
        "\n",
        "# Path to image directory\n",
        "# change with your own path\n",
        "path = \"/content/drive/MyDrive/animals/\"\n",
        "filenames = [os.path.join(path, f) for f in os.listdir(path)]\n",
        "data = []\n",
        "\n",
        "def load_dataset(downsample=8):\n",
        "    # Append images to a list\n",
        "    for image in filenames:\n",
        "      im = np.array(Image.open(image).convert(\"RGB\"))\n",
        "\n",
        "      # Downsampling by averaging \n",
        "      r = block_reduce(im[:, :, 0],(downsample, downsample),np.mean)\n",
        "      g = block_reduce(im[:, :, 1],(downsample, downsample),np.mean)\n",
        "      b = block_reduce(im[:, :, 2],(downsample, downsample),np.mean)\n",
        "      im = np.stack((r, g, b), axis=-1)\n",
        "      data.append(im)\n",
        "\n",
        "load_dataset()\n",
        "# Convert and save the list of images in '.npy' format\n",
        "imgset=np.array(data)\n",
        "np.save(\"animals_downsampled.npy\",imgset)\n",
        "\"\"\""
      ],
      "metadata": {
        "id": "38WxohjxRmCY"
      },
      "execution_count": null,
      "outputs": []
    },
    {
      "cell_type": "markdown",
      "source": [
        "#Loading the Animal Faces Image Dataset"
      ],
      "metadata": {
        "id": "27BLBekZ9_AX"
      }
    },
    {
      "cell_type": "code",
      "source": [
        "import numpy as np\n",
        "import matplotlib.pyplot as plt\n",
        "\n",
        "from google.colab import drive\n",
        "drive.mount('/content/drive', force_remount=True)\n",
        "\n",
        "def load_real_wild(scale=False):\n",
        "    X = np.load('/content/drive/MyDrive/animals_downsampled.npy')\n",
        "    if scale:\n",
        "        X = (X - 127.5) * 2\n",
        "    return X / 255.\n",
        "\n",
        "# We will use this function to display the output of our models throughout this notebook\n",
        "def grid_plot(images, epoch='', name='', n=3, save=False, scale=False):\n",
        "    if scale:\n",
        "        images = (images + 1) / 2.0\n",
        "    for index in range(n * n):\n",
        "        plt.subplot(n, n, 1 + index)\n",
        "        plt.axis('off')\n",
        "        plt.imshow(images[index])\n",
        "    fig = plt.gcf()\n",
        "    fig.suptitle(name + '  '+ str(epoch), fontsize=14)\n",
        "    if save:\n",
        "        filename = 'results/generated_plot_e%03d_f.png' % (epoch+1)\n",
        "        plt.savefig(filename)\n",
        "        plt.close()\n",
        "    plt.show()\n",
        "\n",
        "wild_ds = load_real_wild()\n",
        "print(wild_ds.shape)\n",
        "grid_plot(wild_ds[np.random.randint(0, 1000, 4)], name='Animals dataset (64x64x3)', n=2)"
      ],
      "metadata": {
        "id": "Jr1rVdBr9p4V"
      },
      "execution_count": null,
      "outputs": []
    },
    {
      "cell_type": "markdown",
      "metadata": {
        "id": "IY2JiCWeyghl"
      },
      "source": [
        "## 2.1. Introduction\n",
        "\n",
        "The generative model that we are going to cover both have the following components:\n",
        "\n",
        "1. A downsampling architecture (encoder in case of VAE, and discriminator in case of GAN) to either extract features from the data or model its distribution.\n",
        "2. An upsampling architecture (decoder for VAE, generator for GAN) that will use some kind of latent vector to generate new samples that resemble the data that it was trained on.\n",
        "\n",
        "Since we are going to be dealing with images, we are going to use convolutional networks for upsampling and downsampling, similar to what you see below.\n",
        "\n",
        "<img src=\"https://i2.wp.com/sefiks.com/wp-content/uploads/2018/03/convolutional-autoencoder.png\" width=\"500\"> \n",
        "\n",
        "\n",
        "As you will notice later, generative models are incredibly similar in their architecture - the main differences lie in the training procedure.\n",
        "\n",
        "#### Code for building these components"
      ]
    },
    {
      "cell_type": "code",
      "metadata": {
        "id": "AMljVR5oyghm"
      },
      "source": [
        "from tensorflow.keras.layers import Dense, Flatten, Conv2D, Conv2DTranspose, Reshape\n",
        "\n",
        "def build_conv_net(in_shape, out_shape, n_downsampling_layers=4, out_activation='sigmoid'):\n",
        "    \"\"\"\n",
        "    Build a basic convolutional network\n",
        "    \"\"\"\n",
        "    model = tf.keras.Sequential()\n",
        "    default_args=dict(kernel_size=(3,3), strides=(2,2), padding='same', activation='relu')\n",
        "\n",
        "    model.add(Conv2D(input_shape=in_shape, filters=128, **default_args))\n",
        "\n",
        "    for _ in range(n_downsampling_layers):\n",
        "        model.add(Conv2D(**default_args, filters=128))\n",
        "\n",
        "    model.add(Flatten())\n",
        "    model.add(Dense(out_shape, activation=out_activation) )\n",
        "    model.summary()\n",
        "    return model\n",
        "\n",
        "\n",
        "def build_deconv_net(latent_dim, n_upsampling_layers=4, activation_out='sigmoid'):\n",
        "    \"\"\"\n",
        "    Build a deconvolutional network for decoding latent vectors\n",
        "\n",
        "    When building the deconvolutional architecture, usually it is best to use the same layer sizes that \n",
        "    were used in the downsampling network, however the Conv2DTranspose layers are used instead. \n",
        "    Using identical layers and hyperparameters ensures that the dimensionality of our output matches the\n",
        "    input. \n",
        "    \"\"\"\n",
        "\n",
        "    model = tf.keras.Sequential()\n",
        "    model.add(Dense(4 * 4 * 64, input_dim=latent_dim))\n",
        "    model.add(Reshape((4, 4, 64)))\n",
        "    default_args=dict(kernel_size=(3,3), strides=(2,2), padding='same', activation='relu')\n",
        "    \n",
        "    for i in range(n_upsampling_layers):\n",
        "        model.add(Conv2DTranspose(**default_args, filters=128))\n",
        "\n",
        "    # This last convolutional layer converts back to 3 channel RGB image\n",
        "    model.add(Conv2D(filters=3, kernel_size=(3,3), activation=activation_out, padding='same'))\n",
        "    model.summary()\n",
        "    return model"
      ],
      "execution_count": null,
      "outputs": []
    },
    {
      "cell_type": "markdown",
      "metadata": {
        "id": "JA4GwTxMyghq"
      },
      "source": [
        "### Convolutional Autoencoder example\n",
        "\n",
        "Using these two basic building blocks we can now build a Convolutional Autoencoder (CAE).\n",
        "\n",
        "<img src=\"https://lilianweng.github.io/lil-log/assets/images/autoencoder-architecture.png\" width=\"500\"> \n",
        "\n",
        "\n",
        "\n",
        "Even though it's not a generative model, CAE is a great way to illustrate how these two components (convolutional and deconvolutional networks) can be used together to reconstruct images.\n",
        "\n",
        "They are also useful for experimentation - you can use this model to find network architectures and hyperparameters that produce the best reconstructions before moving on to generative models.\n",
        "\n",
        "You can view such model as a compression/dimensionality reduction method as each image gets compressed to a vector of 256 numbers by the encoder and gets decompressed back into an image using the decoder network."
      ]
    },
    {
      "cell_type": "code",
      "metadata": {
        "scrolled": true,
        "id": "j9vPwWeLyghq"
      },
      "source": [
        "def build_convolutional_autoencoder(data_shape, latent_dim):\n",
        "    encoder = build_conv_net(in_shape=data_shape, out_shape=latent_dim)\n",
        "    decoder = build_deconv_net(latent_dim, activation_out='sigmoid')\n",
        "\n",
        "    # We connect encoder and decoder into a single model\n",
        "    autoencoder = tf.keras.Sequential([encoder, decoder])\n",
        "    \n",
        "    # Binary crossentropy loss - pairwise comparison between input and output pixels\n",
        "    autoencoder.compile(loss='binary_crossentropy', optimizer='adam')\n",
        "\n",
        "    return autoencoder\n"
      ],
      "execution_count": null,
      "outputs": []
    },
    {
      "cell_type": "markdown",
      "metadata": {
        "id": "TWInkZXdyghv"
      },
      "source": [
        "--- \n",
        "---\n",
        "\n",
        "\n",
        "## 2. 2. Variational Autoencoders (VAEs)\n",
        "\n",
        "<img src=\"https://lilianweng.github.io/lil-log/assets/images/vae-gaussian.png\" width=\"500\"> \n",
        "\n",
        "#### Encoder network\n",
        "This defines the approximate posterior distribution, which takes as input an observation and outputs a set of parameters for specifying the conditional distribution of the latent representation. In this example, we simply model the distribution as a diagonal Gaussian, and the network outputs the mean and log-variance parameters of a factorized Gaussian. We output log-variance instead of the variance directly for numerical stability.\n",
        "\n",
        "#### Decoder network\n",
        "This defines the conditional distribution of the observation $z$, which takes a latent sample $z$ as input and outputs the parameters for a conditional distribution of the observation. We model the latent distribution prior  as a unit Gaussian.\n",
        "\n",
        "#### Reparameterization trick\n",
        "To generate a sample  for the decoder during training, we can sample from the latent distribution defined by the parameters outputted by the encoder, given an input observation $z$. However, this sampling operation creates a bottleneck because backpropagation cannot flow through a random node.\n",
        "\n",
        "To address this, we use a reparameterization trick. In our example, we approximate  using the decoder parameters and another parameter  as follows:\n",
        "\n",
        "$$z = \\mu + \\sigma\\epsilon$$\n",
        "\n",
        "where $\\mu$ and $\\sigma$  represent the mean and standard deviation of a Gaussian distribution respectively. They can be derived from the decoder output. The  can be thought of as a random noise used to maintain stochasticity of $z$. We generate  from a standard normal distribution.\n",
        "\n",
        "The latent variable  is now generated by a function of $\\mu$ and $\\sigma$ which would enable the model to backpropagate gradients in the encoder through $\\mu$ and $\\sigma$ respectively, while maintaining stochasticity through $\\epsilon$.\n",
        "\n",
        "#### Implementation \n",
        "\n",
        "You can see how this trick is implemented below by creating a custom layer by sublassing tf.keras.layers.Layer.\n",
        "It is then connected to the output of the original encoder architecture and an additional [KL](https://en.wikipedia.org/wiki/Kullback–Leibler_divergence) loss term is introduced.\n"
      ]
    },
    {
      "cell_type": "code",
      "metadata": {
        "id": "FyGbnibCyghw"
      },
      "source": [
        "class Sampling(tf.keras.layers.Layer):\n",
        "    \"\"\"\n",
        "    Custom layer for the variational autoencoder\n",
        "    It takes two vectors as input - one for means and other for variances of the latent variables described by a multimodal gaussian\n",
        "    Its output is a latent vector randomly sampled from this distribution\n",
        "    \"\"\"\n",
        "    def call(self, inputs):\n",
        "        z_mean, z_var = inputs\n",
        "        batch = tf.shape(z_mean)[0]\n",
        "        dim = tf.shape(z_mean)[1]\n",
        "        epsilon = tf.keras.backend.random_normal(shape=(batch, dim))\n",
        "        return z_mean + tf.exp(0.5 * z_var) * epsilon\n",
        "\n",
        "def build_vae(data_shape, latent_dim):\n",
        "\n",
        "  \n",
        "    # Building the encoder - starts with a simple downsampling convolutional network  \n",
        "    encoder = build_conv_net(data_shape, latent_dim*2)\n",
        "    \n",
        "    # Adding special sampling layer that uses the reparametrization trick \n",
        "    z_mean = Dense(latent_dim)(encoder.output)\n",
        "    z_var = Dense(latent_dim)(encoder.output)\n",
        "    z = Sampling()([z_mean, z_var])\n",
        "    \n",
        "    # Connecting the two encoder parts\n",
        "    encoder = tf.keras.Model(inputs=encoder.input, outputs=z)\n",
        "\n",
        "    # Defining the decoder which is a regular upsampling deconvolutional network\n",
        "    decoder = build_deconv_net(latent_dim, activation_out='sigmoid')\n",
        "    vae = tf.keras.Model(inputs=encoder.input, outputs=decoder(z))\n",
        "    \n",
        "    # Adding the special loss term\n",
        "    kl_loss = -0.5 * tf.reduce_sum(z_var - tf.square(z_mean) - tf.exp(z_var) + 1)\n",
        "    vae.add_loss(kl_loss/tf.cast(tf.keras.backend.prod(data_shape), tf.float32))\n",
        "\n",
        "    vae.compile(optimizer=tf.keras.optimizers.Adam(learning_rate=1e-3), loss='binary_crossentropy')\n",
        "\n",
        "    return encoder, decoder, vae\n"
      ],
      "execution_count": null,
      "outputs": []
    },
    {
      "cell_type": "code",
      "source": [
        "latent_dim = 32\n",
        "encoder, decoder, vae = build_vae(wild_ds.shape[1:], latent_dim)\n",
        "\n",
        "# Generate random vectors that we will use to sample our latent space\n",
        "latent_vectors = np.random.randn(9, latent_dim)\n",
        "for epoch in range(40):\n",
        "    vae.fit(wild_ds, wild_ds, epochs=1, batch_size=4)\n",
        "    \n",
        "    images = decoder(latent_vectors)\n",
        "    grid_plot(images, epoch, name='VAE generated images', n=3, save=False)"
      ],
      "metadata": {
        "id": "wmwHSUeH-H8W"
      },
      "execution_count": null,
      "outputs": []
    },
    {
      "cell_type": "markdown",
      "metadata": {
        "id": "JkT8Wmc_ygh3"
      },
      "source": [
        "---\n",
        "\n",
        "## 2.3 Generative Adversarial Networks (GANs)\n",
        "\n",
        "### GAN architecture\n",
        "Generative adversarial networks consist of two models: a generative model and a discriminative model.\n",
        "\n",
        "<img src=\"https://media.springernature.com/original/springer-static/image/chp%3A10.1007%2F978-1-4842-3679-6_8/MediaObjects/463582_1_En_8_Fig1_HTML.jpg\" width=\"500\"> \n",
        "\n",
        "**The discriminator** model is a classifier that determines whether a given image looks like a real image from the dataset or like an artificially created image. This is basically a binary classifier that will take the form of a normal convolutional neural network (CNN).\n",
        "As an input this network will get samples both from the dataset that it is trained on and on the samples generated by the **generator**.\n",
        "\n",
        "The **generator** model takes random input values (noise) and transforms them into images through a deconvolutional neural network.\n",
        "\n",
        "Over the course of many training iterations, the weights and biases in the discriminator and the generator are trained through backpropagation. The discriminator learns to tell \"real\" images of handwritten digits apart from \"fake\" images created by the generator. At the same time, the generator uses feedback from the discriminator to learn how to produce convincing images that the discriminator can't distinguish from real images.\n",
        "\n",
        "\n"
      ]
    },
    {
      "cell_type": "code",
      "metadata": {
        "id": "E5J6CxJ9ygh4"
      },
      "source": [
        "def build_gan(data_shape, latent_dim, lr=0.0002, beta_1=0.5):\n",
        "    optimizer = tf.optimizers.Adam(lr=lr, beta_1=beta_1)\n",
        "\n",
        "    # Usually thew GAN generator has tanh activation function in the output layer\n",
        "    generator = build_deconv_net(latent_dim, activation_out='tanh')\n",
        "    \n",
        "    # Build and compile the discriminator\n",
        "    discriminator = build_conv_net(in_shape=data_shape, out_shape=1) # Single output for binary classification\n",
        "    discriminator.compile(loss='binary_crossentropy', optimizer=optimizer)\n",
        "    \n",
        "    # End-to-end GAN model for training the generator\n",
        "    discriminator.trainable = False\n",
        "    true_fake_prediction = discriminator(generator.output)\n",
        "    GAN = tf.keras.Model(inputs=generator.input, outputs=true_fake_prediction)\n",
        "    GAN = tf.keras.models.Sequential([generator, discriminator])\n",
        "    GAN.compile(loss='binary_crossentropy', optimizer=optimizer)\n",
        "    \n",
        "    return discriminator, generator, GAN\n"
      ],
      "execution_count": null,
      "outputs": []
    },
    {
      "cell_type": "markdown",
      "metadata": {
        "id": "kD3ipOOiygh8"
      },
      "source": [
        "### Definining custom functions for training\n"
      ]
    },
    {
      "cell_type": "code",
      "metadata": {
        "id": "6r31DNfFygh9"
      },
      "source": [
        "def run_generator(generator, n_samples=100):\n",
        "    \"\"\"\n",
        "    Run the generator model and generate n samples of synthetic images using random latent vectors\n",
        "    \"\"\"\n",
        "    latent_dim = generator.layers[0].input_shape[-1]\n",
        "    generator_input = np.random.randn(n_samples, latent_dim)\n",
        "\n",
        "    return generator.predict(generator_input)\n",
        "    \n",
        "\n",
        "def get_batch(generator, dataset, batch_size=64):\n",
        "    \"\"\"\n",
        "    Gets a single batch of samples (X) and labels (y) for the training the discriminator.\n",
        "    One half from the real dataset (labeled as 1s), the other created by the generator model (labeled as 0s).\n",
        "    \"\"\"\n",
        "    batch_size //= 2 # Split evenly among fake and real samples\n",
        "\n",
        "    fake_data = run_generator(generator, n_samples=batch_size)\n",
        "    real_data = dataset[np.random.randint(0, dataset.shape[0], batch_size)]\n",
        "\n",
        "    X = np.concatenate([fake_data, real_data], axis=0)\n",
        "    y = np.concatenate([np.zeros([batch_size, 1]), np.ones([batch_size, 1])], axis=0)\n",
        "\n",
        "    return X, y\n",
        "\n",
        "\n",
        "def train_gan(generator, discriminator, gan, dataset, latent_dim, n_epochs=20, batch_size=64):\n",
        "\n",
        "    batches_per_epoch = int(dataset.shape[0] / batch_size / 2)\n",
        "    for epoch in range(n_epochs):\n",
        "        for batch in tqdm(range(batches_per_epoch)):\n",
        "            \n",
        "            # 1) Train discriminator both on real and synthesized images\n",
        "            X, y = get_batch(generator, dataset, batch_size=batch_size)\n",
        "            discriminator_loss = discriminator.train_on_batch(X, y)\n",
        "\n",
        "            # 2) Train generator (note that now the label of synthetic images is reversed to 1)\n",
        "            X_gan = np.random.randn(batch_size, latent_dim)\n",
        "            y_gan = np.ones([batch_size, 1])\n",
        "            generator_loss = gan.train_on_batch(X_gan, y_gan)\n",
        "\n",
        "        noise = np.random.randn(16, latent_dim)\n",
        "        images = generator.predict(noise)\n",
        "        grid_plot(images, epoch, name='GAN generated images', n=3, save=False, scale=True)\n"
      ],
      "execution_count": null,
      "outputs": []
    },
    {
      "cell_type": "code",
      "source": [
        "from tqdm import tqdm\n",
        "## GAN\n",
        "## Build and train the model (need around 10 epochs to start seeing some results)\n",
        "\n",
        "latent_dim = 128\n",
        "discriminator, generator, gan = build_gan(wild_ds.shape[1:], latent_dim)\n",
        "dataset_scaled = load_real_wild(scale=True)\n",
        "\n",
        "train_gan(generator, discriminator, gan, dataset_scaled, latent_dim, n_epochs=270)"
      ],
      "metadata": {
        "id": "IHGIz92R-wBO"
      },
      "execution_count": null,
      "outputs": []
    },
    {
      "cell_type": "markdown",
      "source": [
        "#Creating Interpolated Visualizations"
      ],
      "metadata": {
        "id": "ebw9JpWdQ4F4"
      }
    },
    {
      "cell_type": "code",
      "source": [
        "np.random.seed(30)\n",
        "def interpolated_vectors_vae(dim):\n",
        "  # Generate two vectors multivariate standard normal distribution with\n",
        "  # the same dimensionality of your latent space\n",
        "  a = np.random.randn(dim)\n",
        "  b = np.random.randn(dim)\n",
        "\n",
        "  # Create gradual interpolations of the two vectors\n",
        "  diff = b - a\n",
        "\n",
        "  v1 = a + diff/7\n",
        "  v2 = a + 2*diff/7\n",
        "  v3 = a + 3*diff/7\n",
        "  v4 = a + 4*diff/7\n",
        "  v5 = a + 5*diff/7\n",
        "  v6 = a + 6*diff/7\n",
        "  v7 = a + diff\n",
        "\n",
        "  return np.array([a, v1, v2, v3, v4, v5, v6, v7, b])\n",
        "\n",
        "vectors_vae = interpolated_vectors_vae(32)"
      ],
      "metadata": {
        "id": "k1xs-zZsgtOH"
      },
      "execution_count": null,
      "outputs": []
    },
    {
      "cell_type": "markdown",
      "source": [
        "For the VAE"
      ],
      "metadata": {
        "id": "qPEbT7nBdvmx"
      }
    },
    {
      "cell_type": "code",
      "source": [
        "# Feed the vectors to the previously trained VAE decoder and look at the generated images\n",
        "\n",
        "images = decoder(vectors_vae)\n",
        "grid_plot(images, 0, name='VAE generated images', n=3, save=False)"
      ],
      "metadata": {
        "id": "lnonYGTkdzKb"
      },
      "execution_count": null,
      "outputs": []
    },
    {
      "cell_type": "markdown",
      "source": [
        "For the GAN"
      ],
      "metadata": {
        "id": "wiJZnjoJgNzw"
      }
    },
    {
      "cell_type": "code",
      "source": [
        "def run_generator_interpolation(generator, dim):\n",
        "    \"\"\"\n",
        "    Run the generator model and generate n samples of synthetic images using random latent vectors\n",
        "    \"\"\"\n",
        "\n",
        "    #Will only consider images predicted to be real\n",
        "    vectors = interpolated_vectors_vae(dim)\n",
        "    images = generator.predict(vectors)\n",
        "\n",
        "    return images\n",
        "\n",
        "images = run_generator_interpolation(generator, 128)\n",
        "grid_plot(images, 0, name='GAN generated images', n=3, save=False)"
      ],
      "metadata": {
        "id": "1YDQz_kS33HR"
      },
      "execution_count": null,
      "outputs": []
    }
  ]
}