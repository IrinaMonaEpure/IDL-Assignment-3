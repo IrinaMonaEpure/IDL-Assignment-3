{
  "nbformat": 4,
  "nbformat_minor": 0,
  "metadata": {
    "colab": {
      "name": "IDL3_RNN.ipynb",
      "provenance": []
    },
    "kernelspec": {
      "name": "python3",
      "display_name": "Python 3"
    },
    "language_info": {
      "name": "python"
    }
  },
  "cells": [
    {
      "cell_type": "markdown",
      "metadata": {
        "id": "FZ7Xx__nJmj7"
      },
      "source": [
        "# Introduction to Deep Learning\n",
        "## Assignment 3\n",
        "### Task 1: Recurrent Neural Networks\n",
        "<img src=\"https://miro.medium.com/max/1400/1*1JcHGUU7rFgtXC_mydUA_Q.jpeg\" width=\"500\"> \n",
        "\n",
        "The goal of this task is to learn how to use encoder-decoder recurrent models. Specifically we will be dealing with a sequence to sequence problem and try to develop a neural network that can learn the principles behind simple arithmetic operations.\n",
        "\n",
        "\n",
        "\n",
        "To work on this notebook you should create a copy of it."
      ]
    },
    {
      "cell_type": "code",
      "metadata": {
        "id": "w3nzYbXOJmj8"
      },
      "source": [
        "import tensorflow as tf\n",
        "import matplotlib.pyplot as plt\n",
        "import cv2\n",
        "import numpy as np\n",
        "import tensorflow as tf\n",
        "from sklearn.model_selection import train_test_split\n",
        "\n",
        "from tensorflow.keras.layers import Dense, RNN, LSTM, Flatten, TimeDistributed, LSTMCell\n",
        "from tensorflow.keras.layers import RepeatVector, Conv2D, SimpleRNN, GRU, Reshape, ConvLSTM2D, Conv2DTranspose\n",
        "\n",
        "from keras.layers import Flatten"
      ],
      "execution_count": null,
      "outputs": []
    },
    {
      "cell_type": "markdown",
      "metadata": {
        "id": "sP__1utGJmj_"
      },
      "source": [
        "# Function definitions for creating the dataset\n",
        "\n",
        "In order to create image queries of simple arithmetic operations such as '51+31' or '42-10' we need to create images of '+' and '-' signs using ***open-cv*** library. We will use these operand signs together with the MNIST dataset."
      ]
    },
    {
      "cell_type": "code",
      "metadata": {
        "id": "Z7RGPMxLJmkA",
        "colab": {
          "base_uri": "https://localhost:8080/",
          "height": 389
        },
        "outputId": "4bf3846c-fca2-4e66-ebdb-380766921099"
      },
      "source": [
        "# Create plus/minus signs\n",
        "def generate_images(cross=False, n=50):\n",
        "    x = np.random.randint(12, 16, (n, 2))\n",
        "    #print(\"x \",x)\n",
        "    y1 = np.random.randint(4, 8, n)\n",
        "    #print(\"y1 \",y1)\n",
        "    y2 = np.random.randint(20, 24, n)\n",
        "    #print(\"y2 \",y2)\n",
        "    blank = np.zeros([n, 28, 28])\n",
        "    for i in range(n):\n",
        "        line = cv2.line(blank[i], (y1[i], x[i,0]), (y2[i], x[i, 1]), (255,0,0), 2, cv2.LINE_AA)\n",
        "        if cross:\n",
        "            line = cv2.line(blank[i], (x[i,0], y1[i]), (x[i, 1], y2[i]), (255,0,0), 2, cv2.LINE_AA)\n",
        "\n",
        "    return blank\n",
        "\n",
        "def show_generated(images):\n",
        "    for i in range(20):\n",
        "        plt.subplot(5, 5, i+1)\n",
        "        plt.axis('off')\n",
        "        plt.imshow(images[i])\n",
        "    plt.show()\n",
        "\n",
        "show_generated(generate_images())\n",
        "show_generated(generate_images(cross=True))"
      ],
      "execution_count": null,
      "outputs": [
        {
          "output_type": "display_data",
          "data": {
            "image/png": "[encoded data removed]",
            "text/plain": [
              "<Figure size 432x288 with 20 Axes>"
            ]
          },
          "metadata": {
            "needs_background": "light"
          }
        },
        {
          "output_type": "display_data",
          "data": {
            "image/png": "[encoded data removed]",
            "text/plain": [
              "<Figure size 432x288 with 20 Axes>"
            ]
          },
          "metadata": {
            "needs_background": "light"
          }
        }
      ]
    },
    {
      "cell_type": "code",
      "metadata": {
        "tags": [],
        "id": "Lx-Pt6ypJmkD"
      },
      "source": [
        "import random\n",
        "\n",
        "def create_data(highest_integer):\n",
        "    \"\"\"\n",
        "    Creates the following data for all pairs of integers up to [highest integer]+[highest_integer]:\n",
        "\n",
        "    @return:\n",
        "    X_text: '151+ 21' -> text query of an arithmetic operation\n",
        "    X_img : Stack of MNIST images corresponding to the query (7 x 28 x 28)\n",
        "    y_text: ' 172' -> answer of the arithmetic text query\n",
        "    y_img :  Stack of MNIST images corresponding to the answer (4 x 28 x 28)\n",
        "\n",
        "    Images for digits are picked randomly from the whole MNIST dataset.\n",
        "    \"\"\"\n",
        "\n",
        "    num_indices = [np.where(MNIST_labels==x) for x in range(10)]\n",
        "    num_data = [MNIST_data[inds] for inds in num_indices]\n",
        "    image_mapping = dict(zip(unique_characters[:10], num_data))\n",
        "    image_mapping['-'] = generate_images()\n",
        "    image_mapping['+'] = generate_images(cross=True)\n",
        "    image_mapping[' '] = np.zeros([1, 28, 28])\n",
        "\n",
        "    X_text, X_img, y_text, y_img = [], [], [], []\n",
        "    for i in range(highest_integer + 1):\n",
        "        for j in range(highest_integer + 1):\n",
        "            \n",
        "            i_char = to_padded_chars(i, max_len=max_int_length)\n",
        "            j_char = to_padded_chars(j, max_len=max_int_length)\n",
        "\n",
        "            for sign in ['-', '+']:\n",
        "                query_string = i_char + sign + j_char\n",
        "                query_image = []\n",
        "                for n, char in enumerate(query_string):\n",
        "                    image_set = image_mapping[char]\n",
        "                    index = np.random.randint(0, len(image_set), 1)\n",
        "                    query_image.append(image_set[index].squeeze())\n",
        "\n",
        "                result = eval(query_string)\n",
        "                result_string = to_padded_chars(result, max_len=max_answer_length)\n",
        "                result_image = []\n",
        "                for n, char in enumerate(result_string):\n",
        "                    image_set = image_mapping[char]\n",
        "                    index = np.random.randint(0, len(image_set), 1)\n",
        "                    result_image.append(image_set[index].squeeze())\n",
        "\n",
        "                X_text.append(query_string)\n",
        "                X_img.append(np.stack(query_image))\n",
        "                y_text.append(result_string)\n",
        "                y_img.append(np.stack(result_image))\n",
        "            \n",
        "    return np.stack(X_text), np.stack(X_img)/255., np.stack(y_text), np.stack(y_img)/255.\n",
        "  \n",
        "def to_padded_chars(integer, max_len=3, pad_right=False):\n",
        "    \"\"\"\n",
        "    Returns a string of len()=max_len, containing the integer padded with ' ' on either right or left side\n",
        "    \"\"\"\n",
        "    length = len(str(integer))\n",
        "    padding = (max_len - length) * ' '\n",
        "    if pad_right:\n",
        "        return str(integer) + padding\n",
        "    else:\n",
        "        return padding + str(integer)\n"
      ],
      "execution_count": null,
      "outputs": []
    },
    {
      "cell_type": "markdown",
      "metadata": {
        "id": "bTMHYBf4baih"
      },
      "source": [
        "# Creating our data\n",
        "\n",
        "The dataset consists of 80000 samples that have two kinds of inputs and labels:\n",
        "\n",
        "  X_text: strings containing queries of length 7: ['  1+  1', '174- 18', ...] \n",
        "\n",
        "  X_image: a stack of images representing a single query, dimensions: [7, 28, 28]\n",
        "\n",
        "  y_text: strings containing answers of length 4: ['   2', ' 156']\n",
        "\n",
        "  y_image: a stack of images that represents the answer to a query, dimensions: [4, 28, 28]"
      ]
    },
    {
      "cell_type": "code",
      "metadata": {
        "scrolled": false,
        "id": "y0N1vtdLJmkG",
        "colab": {
          "base_uri": "https://localhost:8080/",
          "height": 1000
        },
        "outputId": "680d9b7d-53bf-45bc-8497-e4fdf5f0d5af"
      },
      "source": [
        "# Illustrate the generated query/answer pairs\n",
        "\n",
        "unique_characters = '0123456789+- ' # All unique characters that are used in the queries (13 in total: digits 0-9, 2 operands [+, -], and a space character ' '.)\n",
        "highest_integer = 199 # Highest value of integers contained in the queries\n",
        "max_int_length = len(str(highest_integer)) # \n",
        "max_query_length = max_int_length * 2 + 1 # Maximum length of the query string (consists of two integers and an operand [e.g. '22+10'])\n",
        "max_answer_length = max_int_length + 1    # Maximum length of the answer string\n",
        "\n",
        "# Create the data (might take around a minute)\n",
        "(MNIST_data, MNIST_labels), _ = tf.keras.datasets.mnist.load_data()\n",
        "X_text, X_img, y_text, y_img = create_data(highest_integer)\n",
        "print(X_text.shape, X_img.shape, y_text.shape, y_img.shape)\n",
        "\n",
        "\n",
        "## Display the samples that were created\n",
        "def display_sample(n):\n",
        "    labs = ['X_img:', 'y_img:']\n",
        "    for i, data in enumerate([X_img, y_img]):\n",
        "        plt.subplot(1,2,i+1)\n",
        "        plt.axis('off')\n",
        "        plt.title(labs[i])\n",
        "        plt.imshow(np.hstack(data[n]), cmap='gray')\n",
        "    print('='*50, f'\\nSample ID: {n}\\n\\nX_text: \"{X_text[n]}\" = y_text: \"{y_text[n]}\"')\n",
        "    plt.show()\n",
        "\n",
        "for _ in range(10):\n",
        "    display_sample(np.random.randint(0, 80000, 1)[0])"
      ],
      "execution_count": null,
      "outputs": [
        {
          "output_type": "stream",
          "name": "stdout",
          "text": [
            "(80000,) (80000, 7, 28, 28) (80000,) (80000, 4, 28, 28)\n",
            "================================================== \n",
            "Sample ID: 67951\n",
            "\n",
            "X_text: \"169+175\" = y_text: \" 344\"\n"
          ]
        },
        {
          "output_type": "display_data",
          "data": {
            "image/png": "[encoded data removed]",
            "text/plain": [
              "<Figure size 432x288 with 2 Axes>"
            ]
          },
          "metadata": {
            "needs_background": "light"
          }
        },
        {
          "output_type": "stream",
          "name": "stdout",
          "text": [
            "================================================== \n",
            "Sample ID: 64141\n",
            "\n",
            "X_text: \"160+ 70\" = y_text: \" 230\"\n"
          ]
        },
        {
          "output_type": "display_data",
          "data": {
            "image/png": "[encoded data removed]",
            "text/plain": [
              "<Figure size 432x288 with 2 Axes>"
            ]
          },
          "metadata": {
            "needs_background": "light"
          }
        },
        {
          "output_type": "stream",
          "name": "stdout",
          "text": [
            "================================================== \n",
            "Sample ID: 47263\n",
            "\n",
            "X_text: \"118+ 31\" = y_text: \" 149\"\n"
          ]
        },
        {
          "output_type": "display_data",
          "data": {
            "image/png": "[encoded data removed]",
            "text/plain": [
              "<Figure size 432x288 with 2 Axes>"
            ]
          },
          "metadata": {
            "needs_background": "light"
          }
        },
        {
          "output_type": "stream",
          "name": "stdout",
          "text": [
            "================================================== \n",
            "Sample ID: 29039\n",
            "\n",
            "X_text: \" 72+119\" = y_text: \" 191\"\n"
          ]
        },
        {
          "output_type": "display_data",
          "data": {
            "image/png": "[encoded data removed]",
            "text/plain": [
              "<Figure size 432x288 with 2 Axes>"
            ]
          },
          "metadata": {
            "needs_background": "light"
          }
        },
        {
          "output_type": "stream",
          "name": "stdout",
          "text": [
            "================================================== \n",
            "Sample ID: 4811\n",
            "\n",
            "X_text: \" 12+  5\" = y_text: \"  17\"\n"
          ]
        },
        {
          "output_type": "display_data",
          "data": {
            "image/png": "[encoded data removed]",
            "text/plain": [
              "<Figure size 432x288 with 2 Axes>"
            ]
          },
          "metadata": {
            "needs_background": "light"
          }
        },
        {
          "output_type": "stream",
          "name": "stdout",
          "text": [
            "================================================== \n",
            "Sample ID: 14807\n",
            "\n",
            "X_text: \" 37+  3\" = y_text: \"  40\"\n"
          ]
        },
        {
          "output_type": "display_data",
          "data": {
            "image/png": "[encoded data removed]",
            "text/plain": [
              "<Figure size 432x288 with 2 Axes>"
            ]
          },
          "metadata": {
            "needs_background": "light"
          }
        },
        {
          "output_type": "stream",
          "name": "stdout",
          "text": [
            "================================================== \n",
            "Sample ID: 18651\n",
            "\n",
            "X_text: \" 46+125\" = y_text: \" 171\"\n"
          ]
        },
        {
          "output_type": "display_data",
          "data": {
            "image/png": "[encoded data removed]",
            "text/plain": [
              "<Figure size 432x288 with 2 Axes>"
            ]
          },
          "metadata": {
            "needs_background": "light"
          }
        },
        {
          "output_type": "stream",
          "name": "stdout",
          "text": [
            "================================================== \n",
            "Sample ID: 52407\n",
            "\n",
            "X_text: \"131+  3\" = y_text: \" 134\"\n"
          ]
        },
        {
          "output_type": "display_data",
          "data": {
            "image/png": "[encoded data removed]",
            "text/plain": [
              "<Figure size 432x288 with 2 Axes>"
            ]
          },
          "metadata": {
            "needs_background": "light"
          }
        },
        {
          "output_type": "stream",
          "name": "stdout",
          "text": [
            "================================================== \n",
            "Sample ID: 31695\n",
            "\n",
            "X_text: \" 79+ 47\" = y_text: \" 126\"\n"
          ]
        },
        {
          "output_type": "display_data",
          "data": {
            "image/png": "[encoded data removed]",
            "text/plain": [
              "<Figure size 432x288 with 2 Axes>"
            ]
          },
          "metadata": {
            "needs_background": "light"
          }
        },
        {
          "output_type": "stream",
          "name": "stdout",
          "text": [
            "================================================== \n",
            "Sample ID: 8986\n",
            "\n",
            "X_text: \" 22- 93\" = y_text: \" -71\"\n"
          ]
        },
        {
          "output_type": "display_data",
          "data": {
            "image/png": "[encoded data removed]",
            "text/plain": [
              "<Figure size 432x288 with 2 Axes>"
            ]
          },
          "metadata": {
            "needs_background": "light"
          }
        }
      ]
    },
    {
      "cell_type": "code",
      "metadata": {
        "id": "rePVm6duJmkJ",
        "colab": {
          "base_uri": "https://localhost:8080/"
        },
        "outputId": "28e9b2e3-7f38-445b-cd18-9536234b59d8"
      },
      "source": [
        "# One-hot encoding/decoding the text queries/answers so that they can be processed using RNNs\n",
        "# You should use these functions to convert your strings and read out the output of your networks\n",
        "\n",
        "def encode_labels(labels, max_len=4):\n",
        "    n = len(labels)\n",
        "    length = len(labels[0])\n",
        "    char_map = dict(zip(unique_characters, range(len(unique_characters))))\n",
        "    one_hot = np.zeros([n, length, len(unique_characters)])\n",
        "    for i, label in enumerate(labels):\n",
        "        m = np.zeros([length, len(unique_characters)])\n",
        "        for j, char in enumerate(label):\n",
        "            m[j, char_map[char]] = 1\n",
        "        one_hot[i] = m  \n",
        "    return one_hot \n",
        "\n",
        "def decode_labels(labels):\n",
        "    pred = np.argmax(labels, axis=1)\n",
        "    predicted = ''.join([unique_characters[i] for i in pred])\n",
        "    return predicted\n",
        "\n",
        "X_text_onehot = encode_labels(X_text)\n",
        "y_text_onehot = encode_labels(y_text)\n",
        "\n",
        "print(X_text_onehot.shape, y_text_onehot.shape)"
      ],
      "execution_count": null,
      "outputs": [
        {
          "output_type": "stream",
          "name": "stdout",
          "text": [
            "(80000, 7, 13) (80000, 4, 13)\n"
          ]
        }
      ]
    },
    {
      "cell_type": "markdown",
      "metadata": {
        "id": "7-pNByj-JmkL"
      },
      "source": [
        "---\n",
        "---\n",
        "\n",
        "# 1. Text-to-text RNN model\n",
        "\n",
        "The following code showcases how Recurrent neural networks are built using Keras. Several new layers are going to be used:\n",
        "\n",
        "1. LSTM \n",
        "2. TimeDistributed\n",
        "3. RepeatVector"
      ]
    },
    {
      "cell_type": "markdown",
      "metadata": {
        "id": "iyFuSEGyYS7v"
      },
      "source": [
        "The following code shows the basic architecture of a Recurrent Neural Network\n",
        "LSTM (Long Short Term Memory) layers can be replaced either with SimpleRNN or GRU (Gated Recurrent Units).\n"
      ]
    },
    {
      "cell_type": "markdown",
      "metadata": {
        "id": "HPKKMUMxZmVS"
      },
      "source": [
        "\n",
        "<img src=\"https://miro.medium.com/max/1400/1*1JcHGUU7rFgtXC_mydUA_Q.jpeg\" width=\"500\"> \n"
      ]
    },
    {
      "cell_type": "code",
      "metadata": {
        "id": "Tll54DIrZwbK",
        "colab": {
          "base_uri": "https://localhost:8080/"
        },
        "outputId": "f910ad43-064b-4a30-a4f3-0c527a3288c8"
      },
      "source": [
        "# We start by initializing a sequential model\n",
        "text2text = tf.keras.Sequential()\n",
        "\n",
        "# \"Encode\" the input sequence using an RNN, producing an output of size 256.\n",
        "# In this case the size of our input vectors is [7, 13] as we have queries of length 7 and 13 unique characters. Each of these 7 elements in the query will be fed to the network one by one,\n",
        "# as shown in the image above (except with 7 elements).\n",
        "# Hint: In other applications, where your input sequences have a variable length (e.g. sentences), you would use input_shape=(None, unique_characters).\n",
        "text2text.add(LSTM(256, input_shape=(max_query_length, len(unique_characters))))\n",
        "\n",
        "#text2text.add(GRU(128, input_shape=(max_query_length, len(unique_characters)), dropout=0.5, recurrent_dropout=0.5))\n",
        "\n",
        "# As the decoder RNN's input, repeatedly provide with the last output of RNN for each time step. Repeat 4 times as that's the maximum length of the output (e.g. '  1-199' = '-198')\n",
        "# when using 3-digit integers in queries. In other words, the RNN will always produce 4 characters as its output.\n",
        "text2text.add(RepeatVector(max_answer_length))\n",
        "\n",
        "# By setting return_sequences to True, return not only the last output but all the outputs so far in the form of (num_samples, timesteps, output_dim). This is necessary as TimeDistributed in the below expects\n",
        "# the first dimension to be the timesteps.\n",
        "text2text.add(LSTM(128, return_sequences=True))\n",
        "\n",
        "# Apply a dense layer to the every temporal slice of an input. For each of step of the output sequence, decide which character should be chosen.\n",
        "text2text.add(TimeDistributed(Dense(len(unique_characters), activation='softmax')))\n",
        "\n",
        "# Next we compile the model using categorical crossentropy as our loss function.\n",
        "text2text.compile(loss='categorical_crossentropy', optimizer='adam', metrics=['accuracy'])\n",
        "text2text.summary()"
      ],
      "execution_count": null,
      "outputs": [
        {
          "output_type": "stream",
          "name": "stdout",
          "text": [
            "Model: \"sequential\"\n",
            "_________________________________________________________________\n",
            " Layer (type)                Output Shape              Param #   \n",
            "=================================================================\n",
            " lstm (LSTM)                 (None, 256)               276480    \n",
            "                                                                 \n",
            " repeat_vector (RepeatVector  (None, 4, 256)           0         \n",
            " )                                                               \n",
            "                                                                 \n",
            " lstm_1 (LSTM)               (None, 4, 128)            197120    \n",
            "                                                                 \n",
            " time_distributed (TimeDistr  (None, 4, 13)            1677      \n",
            " ibuted)                                                         \n",
            "                                                                 \n",
            "=================================================================\n",
            "Total params: 475,277\n",
            "Trainable params: 475,277\n",
            "Non-trainable params: 0\n",
            "_________________________________________________________________\n"
          ]
        }
      ]
    },
    {
      "cell_type": "markdown",
      "source": [
        "Train-Test Split of 50-50"
      ],
      "metadata": {
        "id": "ik9yFMnPfPJB"
      }
    },
    {
      "cell_type": "code",
      "metadata": {
        "colab": {
          "base_uri": "https://localhost:8080/"
        },
        "id": "dV2rXfxMOysm",
        "outputId": "ba47972e-5ac9-4712-d1fc-b8662f8c4962"
      },
      "source": [
        "tf.config.run_functions_eagerly(True)\n",
        "X_train, X_test, y_train, y_test = train_test_split(X_text_onehot, y_text_onehot, test_size=0.5, random_state=42)\n",
        "print(X_train.shape, y_train.shape)\n",
        "text2text.compile(loss='categorical_crossentropy', optimizer='adam', metrics=['accuracy'])\n",
        "history=text2text.fit(X_train,y_train,epochs=5,batch_size=10)\n",
        "results = text2text.evaluate(X_test, y_test)\n",
        "print(\"test loss, test acc:\", results)"
      ],
      "execution_count": null,
      "outputs": [
        {
          "output_type": "stream",
          "name": "stdout",
          "text": [
            "Epoch 1/5\n",
            "   2/4000 [..............................] - ETA: 3:25 - loss: 2.2398 - accuracy: 0.3500"
          ]
        },
        {
          "output_type": "stream",
          "name": "stderr",
          "text": [
            "/usr/local/lib/python3.7/dist-packages/tensorflow/python/data/ops/dataset_ops.py:4527: UserWarning: Even though the `tf.config.experimental_run_functions_eagerly` option is set, this option does not apply to tf.data functions. To force eager execution of tf.data functions, please use `tf.data.experimental.enable_debug_mode()`.\n",
            "  \"Even though the `tf.config.experimental_run_functions_eagerly` \"\n"
          ]
        },
        {
          "output_type": "stream",
          "name": "stdout",
          "text": [
            "4000/4000 [==============================] - 222s 55ms/step - loss: 1.2089 - accuracy: 0.5269\n",
            "Epoch 2/5\n",
            "4000/4000 [==============================] - 220s 55ms/step - loss: 0.8700 - accuracy: 0.6570\n",
            "Epoch 3/5\n",
            "4000/4000 [==============================] - 221s 55ms/step - loss: 0.7948 - accuracy: 0.6856\n",
            "Epoch 4/5\n",
            "4000/4000 [==============================] - 222s 56ms/step - loss: 0.7571 - accuracy: 0.7026\n",
            "Epoch 5/5\n",
            "4000/4000 [==============================] - 220s 55ms/step - loss: 0.6701 - accuracy: 0.7397\n",
            "1250/1250 [==============================] - 35s 28ms/step - loss: 0.5005 - accuracy: 0.8224\n",
            "test loss, test acc: [0.5005335211753845, 0.8224062323570251]\n"
          ]
        }
      ]
    },
    {
      "cell_type": "markdown",
      "source": [
        "Train-Test Split of 5-95"
      ],
      "metadata": {
        "id": "IBzlz8dTfj59"
      }
    },
    {
      "cell_type": "code",
      "source": [
        "tf.config.run_functions_eagerly(True)\n",
        "X_train, X_test, y_train, y_test = train_test_split(X_text_onehot, y_text_onehot, test_size=0.95, random_state=42)\n",
        "text2text.compile(loss='categorical_crossentropy', optimizer='adam', metrics=['accuracy'])\n",
        "history=text2text.fit(X_train,y_train,epochs=5,batch_size=10)\n",
        "results = text2text.evaluate(X_test, y_test)\n",
        "print(\"test loss, test acc:\", results)"
      ],
      "metadata": {
        "colab": {
          "base_uri": "https://localhost:8080/"
        },
        "id": "uMI8iZUGg-57",
        "outputId": "7f993fc5-54bb-40cb-facd-bbe09f59eeca"
      },
      "execution_count": null,
      "outputs": [
        {
          "output_type": "stream",
          "name": "stdout",
          "text": [
            "Epoch 1/5\n",
            "  2/400 [..............................] - ETA: 20s - loss: 0.5152 - accuracy: 0.8250"
          ]
        },
        {
          "output_type": "stream",
          "name": "stderr",
          "text": [
            "/usr/local/lib/python3.7/dist-packages/tensorflow/python/data/ops/dataset_ops.py:4527: UserWarning: Even though the `tf.config.experimental_run_functions_eagerly` option is set, this option does not apply to tf.data functions. To force eager execution of tf.data functions, please use `tf.data.experimental.enable_debug_mode()`.\n",
            "  \"Even though the `tf.config.experimental_run_functions_eagerly` \"\n"
          ]
        },
        {
          "output_type": "stream",
          "name": "stdout",
          "text": [
            "400/400 [==============================] - 21s 54ms/step - loss: 0.4992 - accuracy: 0.8190\n",
            "Epoch 2/5\n",
            "400/400 [==============================] - 22s 54ms/step - loss: 0.4251 - accuracy: 0.8575\n",
            "Epoch 3/5\n",
            "400/400 [==============================] - 22s 55ms/step - loss: 0.3889 - accuracy: 0.8664\n",
            "Epoch 4/5\n",
            "400/400 [==============================] - 22s 54ms/step - loss: 0.3514 - accuracy: 0.8772\n",
            "Epoch 5/5\n",
            "400/400 [==============================] - 22s 54ms/step - loss: 0.3115 - accuracy: 0.8968\n",
            "2375/2375 [==============================] - 65s 27ms/step - loss: 0.2905 - accuracy: 0.8989\n",
            "test loss, test acc: [0.29052722454071045, 0.8988815546035767]\n"
          ]
        }
      ]
    },
    {
      "cell_type": "markdown",
      "source": [
        "Train-Test split of 10-90"
      ],
      "metadata": {
        "id": "kjAFDw94gKXu"
      }
    },
    {
      "cell_type": "code",
      "source": [
        "tf.config.run_functions_eagerly(True)\n",
        "X_train, X_test, y_train, y_test = train_test_split(X_text_onehot, y_text_onehot, test_size=0.9, random_state=42)\n",
        "text2text.compile(loss='categorical_crossentropy', optimizer='adam', metrics=['accuracy'])\n",
        "history=text2text.fit(X_train,y_train,epochs=5,batch_size=10)\n",
        "results = text2text.evaluate(X_test, y_test)\n",
        "print(\"test loss, test acc:\", results)"
      ],
      "metadata": {
        "colab": {
          "base_uri": "https://localhost:8080/"
        },
        "id": "n2LeJOS0hrrS",
        "outputId": "b27d6f7c-830c-40e8-abdc-f730d7935ac6"
      },
      "execution_count": null,
      "outputs": [
        {
          "output_type": "stream",
          "name": "stdout",
          "text": [
            "Epoch 1/5\n",
            "\r  1/800 [..............................] - ETA: 1:00 - loss: 0.2723 - accuracy: 0.9250"
          ]
        },
        {
          "output_type": "stream",
          "name": "stderr",
          "text": [
            "/usr/local/lib/python3.7/dist-packages/tensorflow/python/data/ops/dataset_ops.py:4527: UserWarning: Even though the `tf.config.experimental_run_functions_eagerly` option is set, this option does not apply to tf.data functions. To force eager execution of tf.data functions, please use `tf.data.experimental.enable_debug_mode()`.\n",
            "  \"Even though the `tf.config.experimental_run_functions_eagerly` \"\n"
          ]
        },
        {
          "output_type": "stream",
          "name": "stdout",
          "text": [
            "800/800 [==============================] - 44s 55ms/step - loss: 0.2469 - accuracy: 0.9212\n",
            "Epoch 2/5\n",
            "800/800 [==============================] - 44s 55ms/step - loss: 0.1986 - accuracy: 0.9386\n",
            "Epoch 3/5\n",
            "800/800 [==============================] - 45s 56ms/step - loss: 0.1602 - accuracy: 0.9541\n",
            "Epoch 4/5\n",
            "800/800 [==============================] - 46s 57ms/step - loss: 0.1284 - accuracy: 0.9639\n",
            "Epoch 5/5\n",
            "800/800 [==============================] - 45s 56ms/step - loss: 0.1266 - accuracy: 0.9604\n",
            "2250/2250 [==============================] - 64s 28ms/step - loss: 0.1622 - accuracy: 0.9421\n",
            "test loss, test acc: [0.16224317252635956, 0.9421180486679077]\n"
          ]
        }
      ]
    },
    {
      "cell_type": "markdown",
      "metadata": {
        "id": "MTUqbQrbaKfB"
      },
      "source": [
        "\n",
        "---\n",
        "---\n",
        "\n",
        "# 2. Image to text RNN Model\n",
        "\n",
        "Hint: There are two ways of building the encoder for such a model - again by using the regular LSTM cells or recurrect convolutional layers [ConvLSTM2D](https://keras.io/api/layers/recurrent_layers/conv_lstm2d/).\n",
        "\n",
        "The goal here is to use X_img as inputs and y_text as outputs."
      ]
    },
    {
      "cell_type": "code",
      "metadata": {
        "id": "CQB-SBNJmlOH"
      },
      "source": [
        "#Split the data into train and test\n",
        "X_train, X_test, y_train, y_test = train_test_split(X_img, y_text_onehot, test_size=0.25, random_state=42)"
      ],
      "execution_count": null,
      "outputs": []
    },
    {
      "cell_type": "code",
      "source": [
        "#delete data we do not need, as session might crash from utilizing complete memory\n",
        "del y_img, X_text, X_text_onehot, X_img, y_text, y_text_onehot\n",
        "print(X_train.shape)"
      ],
      "metadata": {
        "id": "Hd-BujQycdMc"
      },
      "execution_count": null,
      "outputs": []
    },
    {
      "cell_type": "code",
      "source": [
        "#Flatten the input\n",
        "X_train_flat=X_train.reshape(X_train.shape[0],X_train.shape[1],-1)\n",
        "X_test_flat=X_test.reshape(X_test.shape[0],X_test.shape[1],-1)\n",
        "print(X_train_flat.shape)\n",
        "print(X_test_flat.shape)"
      ],
      "metadata": {
        "id": "6OZYnTezQDre"
      },
      "execution_count": null,
      "outputs": []
    },
    {
      "cell_type": "code",
      "metadata": {
        "id": "pxgO1YYvaEax",
        "colab": {
          "base_uri": "https://localhost:8080/"
        },
        "outputId": "564b2ef0-0234-4d81-d6f2-6f057a303a32"
      },
      "source": [
        "#build the model\n",
        "\n",
        "img2text = tf.keras.Sequential()\n",
        "img2text.add(LSTM(512, input_shape=(max_query_length, 784), return_sequences=True))\n",
        "img2text.add(LSTM(256,))\n",
        "img2text.add(RepeatVector(max_answer_length))\n",
        "img2text.add(LSTM(256, return_sequences=True))\n",
        "img2text.add(TimeDistributed(Dense(len(unique_characters), activation='softmax')))\n",
        "img2text.compile(loss='categorical_crossentropy', optimizer='adam', metrics=['accuracy'])\n",
        "img2text.summary()"
      ],
      "execution_count": null,
      "outputs": [
        {
          "output_type": "stream",
          "name": "stdout",
          "text": [
            "Model: \"sequential\"\n",
            "_________________________________________________________________\n",
            " Layer (type)                Output Shape              Param #   \n",
            "=================================================================\n",
            " lstm (LSTM)                 (None, 7, 512)            2656256   \n",
            "                                                                 \n",
            " lstm_1 (LSTM)               (None, 256)               787456    \n",
            "                                                                 \n",
            " repeat_vector (RepeatVector  (None, 4, 256)           0         \n",
            " )                                                               \n",
            "                                                                 \n",
            " lstm_2 (LSTM)               (None, 4, 256)            525312    \n",
            "                                                                 \n",
            " time_distributed (TimeDistr  (None, 4, 13)            3341      \n",
            " ibuted)                                                         \n",
            "                                                                 \n",
            "=================================================================\n",
            "Total params: 3,972,365\n",
            "Trainable params: 3,972,365\n",
            "Non-trainable params: 0\n",
            "_________________________________________________________________\n"
          ]
        }
      ]
    },
    {
      "cell_type": "code",
      "source": [
        "#Fit, test and print the results\n",
        "history=img2text.fit(X_train_flat,y_train,epochs=20,batch_size=10)\n",
        "results = img2text.evaluate(X_test_flat, y_test)\n",
        "print(\"test loss, test acc:\", results)"
      ],
      "metadata": {
        "colab": {
          "base_uri": "https://localhost:8080/"
        },
        "outputId": "9b323648-9997-4276-bbe5-a57a3df719d3",
        "id": "mvC3e662shdn"
      },
      "execution_count": null,
      "outputs": [
        {
          "output_type": "stream",
          "name": "stdout",
          "text": [
            "Epoch 1/20\n",
            "6000/6000 [==============================] - 117s 18ms/step - loss: 1.2748 - accuracy: 0.4999\n",
            "Epoch 2/20\n",
            "6000/6000 [==============================] - 110s 18ms/step - loss: 1.0577 - accuracy: 0.5848\n",
            "Epoch 3/20\n",
            "6000/6000 [==============================] - 110s 18ms/step - loss: 0.9424 - accuracy: 0.6332\n",
            "Epoch 4/20\n",
            "6000/6000 [==============================] - 110s 18ms/step - loss: 0.8681 - accuracy: 0.6648\n",
            "Epoch 5/20\n",
            "6000/6000 [==============================] - 110s 18ms/step - loss: 0.8130 - accuracy: 0.6880\n",
            "Epoch 6/20\n",
            "6000/6000 [==============================] - 110s 18ms/step - loss: 0.7682 - accuracy: 0.7085\n",
            "Epoch 7/20\n",
            "6000/6000 [==============================] - 109s 18ms/step - loss: 0.7110 - accuracy: 0.7306\n",
            "Epoch 8/20\n",
            "6000/6000 [==============================] - 110s 18ms/step - loss: 0.5944 - accuracy: 0.7747\n",
            "Epoch 9/20\n",
            "6000/6000 [==============================] - 110s 18ms/step - loss: 0.4477 - accuracy: 0.8315\n",
            "Epoch 10/20\n",
            "6000/6000 [==============================] - 109s 18ms/step - loss: 0.3415 - accuracy: 0.8798\n",
            "Epoch 11/20\n",
            "6000/6000 [==============================] - 109s 18ms/step - loss: 0.2677 - accuracy: 0.9111\n",
            "Epoch 12/20\n",
            "6000/6000 [==============================] - 109s 18ms/step - loss: 0.2133 - accuracy: 0.9335\n",
            "Epoch 13/20\n",
            "6000/6000 [==============================] - 109s 18ms/step - loss: 0.1747 - accuracy: 0.9479\n",
            "Epoch 14/20\n",
            "6000/6000 [==============================] - 109s 18ms/step - loss: 0.1465 - accuracy: 0.9573\n",
            "Epoch 15/20\n",
            "6000/6000 [==============================] - 110s 18ms/step - loss: 0.1233 - accuracy: 0.9644\n",
            "Epoch 16/20\n",
            "6000/6000 [==============================] - 110s 18ms/step - loss: 0.1054 - accuracy: 0.9695\n",
            "Epoch 17/20\n",
            "6000/6000 [==============================] - 110s 18ms/step - loss: 0.0929 - accuracy: 0.9734\n",
            "Epoch 18/20\n",
            "6000/6000 [==============================] - 110s 18ms/step - loss: 0.0855 - accuracy: 0.9759\n",
            "Epoch 19/20\n",
            "6000/6000 [==============================] - 110s 18ms/step - loss: 0.0765 - accuracy: 0.9785\n",
            "Epoch 20/20\n",
            "6000/6000 [==============================] - 109s 18ms/step - loss: 0.0689 - accuracy: 0.9809\n",
            "625/625 [==============================] - 6s 8ms/step - loss: 0.2531 - accuracy: 0.9422\n",
            "test loss, test acc: [0.25309357047080994, 0.9422374963760376]\n"
          ]
        }
      ]
    },
    {
      "cell_type": "markdown",
      "metadata": {
        "id": "GnGyo_DIlymz"
      },
      "source": [
        "---\n",
        "---\n",
        "\n",
        "# 3. Text to image RNN Model\n",
        "\n",
        "Hint: to make this model work well you will need deconvolutional layers in your decoder (look up ***Conv2DTranspose*** layer). To connect this from a flat latent vector you will also need an operation which is opposite to a ***Flatten*** layer that you usually use in convolutional architectures - for this look up the ***Reshape*** layer.\n",
        "\n",
        "The goal here is to use X_text as inputs and y_img as outputs."
      ]
    },
    {
      "cell_type": "code",
      "metadata": {
        "id": "KSBADh9s3YqD"
      },
      "source": [
        "#Train test split\n",
        "X_train, X_test, y_train, y_test = train_test_split(X_text_onehot, y_img, test_size=0.25, random_state=42)"
      ],
      "execution_count": null,
      "outputs": []
    },
    {
      "cell_type": "code",
      "source": [
        "#Train text to text model\n",
        "text2text_4 = tf.keras.Sequential()\n",
        "text2text_4.add(LSTM(256, input_shape=(max_query_length, len(unique_characters))))\n",
        "text2text_4.add(RepeatVector(max_answer_length))\n",
        "text2text_4.add(LSTM(128, return_sequences=True))\n",
        "text2text_4.add(TimeDistributed(Dense(len(unique_characters), activation='softmax')))\n",
        "text2text_4.compile(loss='categorical_crossentropy', optimizer='adam', metrics=['accuracy'])\n",
        "text2text_4.summary()\n",
        "\n",
        "tf.config.run_functions_eagerly(True)\n",
        "X_train, X_test, y_train, y_test = train_test_split(X_text_onehot, y_text_onehot, test_size=0.9, random_state=42)\n",
        "text2text_4.compile(loss='categorical_crossentropy', optimizer='adam', metrics=['accuracy'])\n",
        "history=text2text_4.fit(X_train,y_train,epochs=5,batch_size=10)\n",
        "results = text2text_4.evaluate(X_test, y_test)\n",
        "print(\"test loss, test acc:\", results)"
      ],
      "metadata": {
        "colab": {
          "base_uri": "https://localhost:8080/"
        },
        "id": "l08yhQF0Kii0",
        "outputId": "11e4405e-8504-468b-d49e-6b2bf92befc8"
      },
      "execution_count": null,
      "outputs": [
        {
          "output_type": "stream",
          "name": "stdout",
          "text": [
            "Model: \"sequential\"\n",
            "_________________________________________________________________\n",
            " Layer (type)                Output Shape              Param #   \n",
            "=================================================================\n",
            " lstm (LSTM)                 (None, 256)               276480    \n",
            "                                                                 \n",
            " repeat_vector (RepeatVector  (None, 4, 256)           0         \n",
            " )                                                               \n",
            "                                                                 \n",
            " lstm_1 (LSTM)               (None, 4, 128)            197120    \n",
            "                                                                 \n",
            " time_distributed (TimeDistr  (None, 4, 13)            1677      \n",
            " ibuted)                                                         \n",
            "                                                                 \n",
            "=================================================================\n",
            "Total params: 475,277\n",
            "Trainable params: 475,277\n",
            "Non-trainable params: 0\n",
            "_________________________________________________________________\n"
          ]
        }
      ]
    }
  ]
}